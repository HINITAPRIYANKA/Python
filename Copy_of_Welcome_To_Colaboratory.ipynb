{
  "cells": [
    {
      "cell_type": "markdown",
      "metadata": {
        "id": "view-in-github",
        "colab_type": "text"
      },
      "source": [
        "<a href=\"https://colab.research.google.com/github/HINITAPRIYANKA/Python/blob/main/Copy_of_Welcome_To_Colaboratory.ipynb\" target=\"_parent\"><img src=\"https://colab.research.google.com/assets/colab-badge.svg\" alt=\"Open In Colab\"/></a>"
      ]
    },
    {
      "cell_type": "code",
      "source": [
        "# Get user inputs\n",
        "favorable_outcomes = int(input(\"Enter the number\"))\n",
        "total_outcomes = int(input(\"Enter the number\"))\n",
        "\n",
        "# calculate probability\n",
        "probability = favorable_outcomes / total_outcomes\n",
        "rounded = round(probability, 2)\n",
        "print(\"Probability :\", rounded )"
      ],
      "metadata": {
        "id": "y9rDCT3g1GJd",
        "outputId": "80c4f0a8-25dc-4ed0-f789-196e85873f44",
        "colab": {
          "base_uri": "https://localhost:8080/"
        }
      },
      "execution_count": null,
      "outputs": [
        {
          "output_type": "stream",
          "name": "stdout",
          "text": [
            "Enter the number1\n",
            "Enter the number2\n",
            "Probability : 0.5\n"
          ]
        }
      ]
    },
    {
      "cell_type": "code",
      "source": [
        "# user's age input\n",
        "user_age = int(input(\"Enter user age\"))\n",
        "# check if the user age is greater than or equal to 18\n",
        "if user_age >= 18:\n",
        "  print(\"Eligible for driving license\")\n",
        "else:\n",
        "  print(\"Not eligible for driving license\")"
      ],
      "metadata": {
        "id": "KbjReLiU4QCM",
        "outputId": "e4af41f3-f103-4686-b7f4-c5ef35805bea",
        "colab": {
          "base_uri": "https://localhost:8080/"
        }
      },
      "execution_count": null,
      "outputs": [
        {
          "output_type": "stream",
          "name": "stdout",
          "text": [
            "Enter user age17\n",
            "Not eligible for driving license\n"
          ]
        }
      ]
    },
    {
      "cell_type": "code",
      "source": [
        "# Chatbot program\n",
        "# step 1: Ask for the user's name\n",
        "\n",
        "user_name=input(\"Hi there! What's your name?\")\n",
        "# Step 2:Wish the user based on their name\n",
        "print(f\"Hi, my name is Jenni, the chatbot. A very good day to you,{user_name}!\")\n",
        "# step 3:Ask how the user is feeling today\n",
        "user_feeling = input(\"How are you feeling today? \")\n",
        "\n",
        "if \"good\" in user_feeling.lower():\n",
        "  print(\"It's really a productive day to do something innovative, and you are close to it.\")\n",
        "else:\n",
        "  print(\"Don't worry! you got this, {user_name}! Buckle up and cheer yourself up. Gooddays are on their way.\")\n"
      ],
      "metadata": {
        "id": "wFe1TAuJ5qsL",
        "outputId": "4f6dae47-37e6-496f-feab-7357c49faf0a",
        "colab": {
          "base_uri": "https://localhost:8080/"
        }
      },
      "execution_count": null,
      "outputs": [
        {
          "output_type": "stream",
          "name": "stdout",
          "text": [
            "Hi there! What's your name?bobby\n",
            "Hi, my name is Jenni, the chatbot. A very good day to you,bobby!\n",
            "How are you feeling today? good\n",
            "It's really a productive day to do something innovative, and you are close to it.\n"
          ]
        }
      ]
    },
    {
      "cell_type": "code",
      "source": [
        "# ATM Machine\n",
        "# Bank Balance\n",
        "bank_balance = 50000\n",
        "# Show ATM options\n",
        "print(\"ATM Options:\")\n",
        "print(\"1) Withdraw\\n 2) Deposite cash\\n 3) Balance Enquiry\\n 4) Fast Cash\")\n",
        "# user choice\n",
        "user_choice = int(input(\"Enter your choice (1-4)\"))\n",
        "# process\n",
        "if user_choice == 1:\n",
        "  # withdraw\n",
        "  withdrawal_amount = int(input(\"Enter the withdrawal amount (multiple of 100): \"))\n",
        "  if withdrawal_amount % 100 ==0 and withdrawal_amount <= bank_balance:\n",
        "    bank_balance -= withdrawal_amount\n",
        "    print(f\"withdrawal successfull! Remaining balance: {bank_balance}\")\n",
        "  else:\n",
        "    print(f\"Invalid amount or insufficient balance.\")\n",
        "elif user_choice == 2:\n",
        "  # Deposit option\n",
        "  deposit_amount = int(input(\"Enter the deposit amount:\"))\n",
        "  bank_balance += deposit_amount\n",
        "  print(f\"Deposit successfull updated balance: {bank_balance}\")\n",
        "elif user_choice == 3:\n",
        "  # check balance\n",
        "  print(f\"Account Balance: {bank_balance}\")\n",
        "elif user_choice == 4:\n",
        "  # fast cash option\n",
        "  fast_cash_options = [5000, 10000, 15000, 20000, 25000, 30000, 40000, 45000, 50000]\n",
        "  print(\"Fast Cash Options:\")\n",
        "  for option in fast_cash_options:\n",
        "    print(option)\n",
        "  selected_option = int(input(\"Select an option: \"))\n",
        "  if selected_option in fast_cash_options and selected_option <= bank_balance:\n",
        "    bank_balance -= selected_option\n",
        "    print(f\"Withdrawal successfull remaining balance: {bank_balance}\")\n",
        "  else:\n",
        "    print(\"Invalid option or insufficient balance.\")\n",
        "else:\n",
        "  print(\"Invalid choice.\")\n"
      ],
      "metadata": {
        "id": "H50jkthS77zy",
        "outputId": "6a54c489-c9c6-44d8-c302-07540c05f319",
        "colab": {
          "base_uri": "https://localhost:8080/"
        }
      },
      "execution_count": null,
      "outputs": [
        {
          "output_type": "stream",
          "name": "stdout",
          "text": [
            "ATM Options:\n",
            "1) Withdraw\n",
            " 2) Deposite cash\n",
            " 3) Balance Enquiry\n",
            " 4) Fast Cash\n",
            "Enter your choice (1-4)4\n",
            "Fast Cash Options:\n",
            "5000\n",
            "10000\n",
            "15000\n",
            "20000\n",
            "25000\n",
            "30000\n",
            "40000\n",
            "45000\n",
            "50000\n",
            "Select an option: 10000\n",
            "Withdrawal successfull remaining balance: 40000\n"
          ]
        }
      ]
    },
    {
      "cell_type": "code",
      "source": [
        "# Colors\n",
        "colors = [\"red\", \"Blue\", \"Green\", \"Yellow\", \"Purple\"]\n",
        "# User input\n",
        "for color in colors:\n",
        "  if color == \"Yellow\":\n",
        "    continue\n",
        "  else:\n",
        "    print(color)"
      ],
      "metadata": {
        "id": "mBR2Wv4CCH0d",
        "outputId": "9a0a4951-e696-4a4f-9f20-17cfa6e0cb12",
        "colab": {
          "base_uri": "https://localhost:8080/"
        }
      },
      "execution_count": null,
      "outputs": [
        {
          "output_type": "stream",
          "name": "stdout",
          "text": [
            "red\n",
            "Blue\n",
            "Green\n",
            "Purple\n"
          ]
        }
      ]
    },
    {
      "cell_type": "code",
      "source": [
        "Amount = int(input())\n",
        "time = int(input())\n",
        "interest_rate_simple = float(input())\n",
        "interest_rate_compound = float(input())\n",
        "\n",
        "# calculate simple interest\n",
        "simple_interest = Amount * interest_rate_simple *time\n",
        "print(f\"Simple interest for the amount after {time} years:\",{round(simple_interest ,2)})\n",
        "# Calculate compound interest\n",
        "compound_interest = Amount * (1+interest_rate_compound)**time-Amount\n",
        "print(f\"Compound interest for the amount after{time} years :\",{round(compound_interest,2)})\n",
        "# Calculate the difference\n",
        "difference  = compound_interest - simple_interest\n",
        "print(f\" Differnce for the Amount:\",{round(difference,2)})\n",
        "# calculate difference in one year\n",
        "difference_in_one_year = (Amount * interest_rate_compound) - (Amount * interest_rate_compound)\n",
        "print(f\"Difference for one year for the amount :\",{round(difference_in_one_year,2\n",
        "                                                         )})"
      ],
      "metadata": {
        "id": "YlRysJv6CH43",
        "outputId": "999150f6-2194-4a43-894e-4b67bd420cfd",
        "colab": {
          "base_uri": "https://localhost:8080/"
        }
      },
      "execution_count": null,
      "outputs": [
        {
          "output_type": "stream",
          "name": "stdout",
          "text": [
            "10000\n",
            "30\n",
            "0.3\n",
            "0.3\n",
            "Simple interest for the amount after 30 years: {90000.0}\n",
            "Compound interest for the amount after30 years : {26189956.44}\n",
            " Differnce for the Amount: {26099956.44}\n",
            "Difference for one year for the amount : {0.0}\n"
          ]
        }
      ]
    },
    {
      "cell_type": "code",
      "source": [
        "# Calculate the tax based on annual income\n",
        "def calculate_tax(annual_income):\n",
        "  if annual_income <= 50000:\n",
        "    tax = 0.05 * annual_income\n",
        "  elif 50000 < annual_income <=100000:\n",
        "    tax = 0.1 * annual_income\n",
        "  elif 100000 < annual_income <= 150000:\n",
        "    tax = 0.15 * annual_income\n",
        "  else:\n",
        "    tax = 0.2 * annual_income\n",
        "  return tax\n",
        "# annual income\n",
        "annual_income = float(input(\"Enter your annual income: $\"))\n",
        "# paid tax\n",
        "tax_paid=calculate_tax(annual_income)\n",
        "# print the amount of tax to be paid\n",
        "print(f\"The tax to be paid based on an annual income of  ${annual_income:.2f} is : ${tax_paid:.2f}\")\n",
        "\n"
      ],
      "metadata": {
        "id": "D2knHiAEILpM",
        "outputId": "fc012152-491d-467d-8e77-3854da3542e1",
        "colab": {
          "base_uri": "https://localhost:8080/"
        }
      },
      "execution_count": null,
      "outputs": [
        {
          "output_type": "stream",
          "name": "stdout",
          "text": [
            "Enter your annual income: $100000\n",
            "The tax to be paid based on an annual income of  $100000.00 is : $10000.00\n"
          ]
        }
      ]
    },
    {
      "cell_type": "code",
      "source": [
        "#calculate BMI Category\n",
        "def get_bmi_category(bmi):\n",
        "  if bmi < 18.5:\n",
        "    return \"UnderWeight\"\n",
        "  elif 18.5 <= bmi <= 24.9:\n",
        "    return \"Healthy weight\"\n",
        "  else:\n",
        "    return \"OverWeight\"\n",
        "\n",
        "# user weight and height\n",
        "height = float(input(\"Enter your height in meters\"))\n",
        "weight = float(input(\"Enter your weight in Kilograms\"))\n",
        "\n",
        "# calculate BMI\n",
        "bmi = weight / (height ** 2)\n",
        "\n",
        "category = get_bmi_category(bmi)\n",
        "print(f\"Your BMI is: {round(bmi,2)}\")\n",
        "print(f\"BMI Category: {category}\")"
      ],
      "metadata": {
        "id": "GJVntHd3PaBZ",
        "outputId": "5d744261-d3a0-4c3d-cb4e-8a0a17955ba7",
        "colab": {
          "base_uri": "https://localhost:8080/"
        }
      },
      "execution_count": null,
      "outputs": [
        {
          "output_type": "stream",
          "name": "stdout",
          "text": [
            "Enter your height in meters1.75\n",
            "Enter your weight in Kilograms70\n",
            "Your BMI is: 22.86\n",
            "BMI Category: Healthy weight\n"
          ]
        }
      ]
    },
    {
      "cell_type": "code",
      "source": [
        "# check if  the given year is a leap year\n",
        "def is_leap_year(year):\n",
        "  if(year % 4 ==0 and year % 100 !=0) or (year%400 == 0):\n",
        "    return True\n",
        "  else:\n",
        "    return False\n",
        "# input year\n",
        "year = int(input(\"Enter a year:\"))\n",
        "if is_leap_year(year):\n",
        "  print(f\"{year} is a leap year.\")\n",
        "else:\n",
        "  print(f\"{year} is not a leap year.\")"
      ],
      "metadata": {
        "id": "xQp-kpfaRysy",
        "outputId": "2d4c5846-5fd6-461c-915a-ee66006fac5e",
        "colab": {
          "base_uri": "https://localhost:8080/"
        }
      },
      "execution_count": null,
      "outputs": [
        {
          "output_type": "stream",
          "name": "stdout",
          "text": [
            "Enter a year:2000\n",
            "2000 is a leap year.\n"
          ]
        }
      ]
    }
  ],
  "metadata": {
    "colab": {
      "toc_visible": true,
      "provenance": [],
      "include_colab_link": true
    },
    "kernelspec": {
      "display_name": "Python 3",
      "name": "python3"
    }
  },
  "nbformat": 4,
  "nbformat_minor": 0
}